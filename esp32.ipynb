{
 "cells": [
  {
   "cell_type": "code",
   "execution_count": 1,
   "id": "3c648d08",
   "metadata": {},
   "outputs": [
    {
     "name": "stdout",
     "output_type": "stream",
     "text": [
      "Collecting ultralytics\n",
      "  Downloading ultralytics-8.3.167-py3-none-any.whl (1.0 MB)\n",
      "     ---------------------------------------- 1.0/1.0 MB 867.8 kB/s eta 0:00:00\n",
      "Requirement already satisfied: requests>=2.23.0 in c:\\users\\user\\desktop\\hand_gesture\\flaskenv\\lib\\site-packages (from ultralytics) (2.32.4)\n",
      "Requirement already satisfied: psutil in c:\\users\\user\\desktop\\hand_gesture\\flaskenv\\lib\\site-packages (from ultralytics) (7.0.0)\n",
      "Collecting opencv-python>=4.6.0\n",
      "  Downloading opencv_python-4.12.0.88-cp37-abi3-win_amd64.whl (39.0 MB)\n",
      "     ---------------------------------------- 39.0/39.0 MB 2.1 MB/s eta 0:00:00\n",
      "Collecting py-cpuinfo\n",
      "  Using cached py_cpuinfo-9.0.0-py3-none-any.whl (22 kB)\n",
      "Collecting pillow>=7.1.2\n",
      "  Downloading pillow-11.3.0-cp39-cp39-win_amd64.whl (7.0 MB)\n",
      "     ---------------------------------------- 7.0/7.0 MB 1.8 MB/s eta 0:00:00\n",
      "Collecting tqdm>=4.64.0\n",
      "  Using cached tqdm-4.67.1-py3-none-any.whl (78 kB)\n",
      "Collecting ultralytics-thop>=2.0.0\n",
      "  Using cached ultralytics_thop-2.0.14-py3-none-any.whl (26 kB)\n",
      "Collecting scipy>=1.4.1\n",
      "  Using cached scipy-1.13.1-cp39-cp39-win_amd64.whl (46.2 MB)\n",
      "Collecting matplotlib>=3.3.0\n",
      "  Using cached matplotlib-3.9.4-cp39-cp39-win_amd64.whl (7.8 MB)\n",
      "Collecting torch>=1.8.0\n",
      "  Using cached torch-2.7.1-cp39-cp39-win_amd64.whl (216.0 MB)\n",
      "Collecting torchvision>=0.9.0\n",
      "  Downloading torchvision-0.22.1-cp39-cp39-win_amd64.whl (1.7 MB)\n",
      "     ---------------------------------------- 1.7/1.7 MB 1.8 MB/s eta 0:00:00\n",
      "Collecting pandas>=1.1.4\n",
      "  Downloading pandas-2.3.1-cp39-cp39-win_amd64.whl (11.4 MB)\n",
      "     ---------------------------------------- 11.4/11.4 MB 5.6 MB/s eta 0:00:00\n",
      "Collecting pyyaml>=5.3.1\n",
      "  Using cached PyYAML-6.0.2-cp39-cp39-win_amd64.whl (162 kB)\n",
      "Collecting numpy>=1.23.0\n",
      "  Using cached numpy-2.0.2-cp39-cp39-win_amd64.whl (15.9 MB)\n",
      "Collecting pyparsing>=2.3.1\n",
      "  Using cached pyparsing-3.2.3-py3-none-any.whl (111 kB)\n",
      "Collecting fonttools>=4.22.0\n",
      "  Downloading fonttools-4.59.0-cp39-cp39-win_amd64.whl (1.5 MB)\n",
      "     ---------------------------------------- 1.5/1.5 MB 1.9 MB/s eta 0:00:00\n",
      "Requirement already satisfied: python-dateutil>=2.7 in c:\\users\\user\\desktop\\hand_gesture\\flaskenv\\lib\\site-packages (from matplotlib>=3.3.0->ultralytics) (2.9.0.post0)\n",
      "Collecting contourpy>=1.0.1\n",
      "  Using cached contourpy-1.3.0-cp39-cp39-win_amd64.whl (211 kB)\n",
      "Collecting cycler>=0.10\n",
      "  Using cached cycler-0.12.1-py3-none-any.whl (8.3 kB)\n",
      "Collecting importlib-resources>=3.2.0\n",
      "  Using cached importlib_resources-6.5.2-py3-none-any.whl (37 kB)\n",
      "Requirement already satisfied: packaging>=20.0 in c:\\users\\user\\desktop\\hand_gesture\\flaskenv\\lib\\site-packages (from matplotlib>=3.3.0->ultralytics) (25.0)\n",
      "Collecting kiwisolver>=1.3.1\n",
      "  Using cached kiwisolver-1.4.7-cp39-cp39-win_amd64.whl (55 kB)\n",
      "Collecting pytz>=2020.1\n",
      "  Using cached pytz-2025.2-py2.py3-none-any.whl (509 kB)\n",
      "Collecting tzdata>=2022.7\n",
      "  Using cached tzdata-2025.2-py2.py3-none-any.whl (347 kB)\n",
      "Requirement already satisfied: certifi>=2017.4.17 in c:\\users\\user\\desktop\\hand_gesture\\flaskenv\\lib\\site-packages (from requests>=2.23.0->ultralytics) (2025.6.15)\n",
      "Requirement already satisfied: urllib3<3,>=1.21.1 in c:\\users\\user\\desktop\\hand_gesture\\flaskenv\\lib\\site-packages (from requests>=2.23.0->ultralytics) (2.5.0)\n",
      "Requirement already satisfied: idna<4,>=2.5 in c:\\users\\user\\desktop\\hand_gesture\\flaskenv\\lib\\site-packages (from requests>=2.23.0->ultralytics) (3.10)\n",
      "Requirement already satisfied: charset_normalizer<4,>=2 in c:\\users\\user\\desktop\\hand_gesture\\flaskenv\\lib\\site-packages (from requests>=2.23.0->ultralytics) (3.4.2)\n",
      "Requirement already satisfied: typing-extensions>=4.10.0 in c:\\users\\user\\desktop\\hand_gesture\\flaskenv\\lib\\site-packages (from torch>=1.8.0->ultralytics) (4.14.0)\n",
      "Collecting networkx\n",
      "  Using cached networkx-3.2.1-py3-none-any.whl (1.6 MB)\n",
      "Collecting filelock\n",
      "  Using cached filelock-3.18.0-py3-none-any.whl (16 kB)\n",
      "Collecting sympy>=1.13.3\n",
      "  Using cached sympy-1.14.0-py3-none-any.whl (6.3 MB)\n",
      "Requirement already satisfied: jinja2 in c:\\users\\user\\desktop\\hand_gesture\\flaskenv\\lib\\site-packages (from torch>=1.8.0->ultralytics) (3.1.6)\n",
      "Collecting fsspec\n",
      "  Downloading fsspec-2025.7.0-py3-none-any.whl (199 kB)\n",
      "     ------------------------------------ 199.6/199.6 KB 247.5 kB/s eta 0:00:00\n",
      "Requirement already satisfied: colorama in c:\\users\\user\\desktop\\hand_gesture\\flaskenv\\lib\\site-packages (from tqdm>=4.64.0->ultralytics) (0.4.6)\n",
      "Requirement already satisfied: zipp>=3.1.0 in c:\\users\\user\\desktop\\hand_gesture\\flaskenv\\lib\\site-packages (from importlib-resources>=3.2.0->matplotlib>=3.3.0->ultralytics) (3.23.0)\n",
      "Requirement already satisfied: six>=1.5 in c:\\users\\user\\desktop\\hand_gesture\\flaskenv\\lib\\site-packages (from python-dateutil>=2.7->matplotlib>=3.3.0->ultralytics) (1.17.0)\n",
      "Collecting mpmath<1.4,>=1.1.0\n",
      "  Using cached mpmath-1.3.0-py3-none-any.whl (536 kB)\n",
      "Requirement already satisfied: MarkupSafe>=2.0 in c:\\users\\user\\desktop\\hand_gesture\\flaskenv\\lib\\site-packages (from jinja2->torch>=1.8.0->ultralytics) (3.0.2)\n",
      "Installing collected packages: pytz, py-cpuinfo, mpmath, tzdata, tqdm, sympy, pyyaml, pyparsing, pillow, numpy, networkx, kiwisolver, importlib-resources, fsspec, fonttools, filelock, cycler, torch, scipy, pandas, opencv-python, contourpy, ultralytics-thop, torchvision, matplotlib, ultralytics\n",
      "Successfully installed contourpy-1.3.0 cycler-0.12.1 filelock-3.18.0 fonttools-4.59.0 fsspec-2025.7.0 importlib-resources-6.5.2 kiwisolver-1.4.7 matplotlib-3.9.4 mpmath-1.3.0 networkx-3.2.1 numpy-2.0.2 opencv-python-4.12.0.88 pandas-2.3.1 pillow-11.3.0 py-cpuinfo-9.0.0 pyparsing-3.2.3 pytz-2025.2 pyyaml-6.0.2 scipy-1.13.1 sympy-1.14.0 torch-2.7.1 torchvision-0.22.1 tqdm-4.67.1 tzdata-2025.2 ultralytics-8.3.167 ultralytics-thop-2.0.14\n"
     ]
    },
    {
     "name": "stderr",
     "output_type": "stream",
     "text": [
      "WARNING: You are using pip version 22.0.4; however, version 25.1.1 is available.\n",
      "You should consider upgrading via the 'C:\\Users\\user\\Desktop\\hand_gesture\\flaskenv\\Scripts\\python.exe -m pip install --upgrade pip' command.\n"
     ]
    }
   ],
   "source": [
    "!pip install ultralytics"
   ]
  }
 ],
 "metadata": {
  "kernelspec": {
   "display_name": "flaskenv",
   "language": "python",
   "name": "python3"
  },
  "language_info": {
   "codemirror_mode": {
    "name": "ipython",
    "version": 3
   },
   "file_extension": ".py",
   "mimetype": "text/x-python",
   "name": "python",
   "nbconvert_exporter": "python",
   "pygments_lexer": "ipython3",
   "version": "3.9.11"
  }
 },
 "nbformat": 4,
 "nbformat_minor": 5
}
